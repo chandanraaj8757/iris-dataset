{
 "cells": [
  {
   "cell_type": "code",
   "execution_count": 1,
   "metadata": {
    "executionInfo": {
     "elapsed": 969,
     "status": "ok",
     "timestamp": 1673183066498,
     "user": {
      "displayName": "Chandan Raj",
      "userId": "15270615075692593053"
     },
     "user_tz": -330
    },
    "id": "ZGGlFh1XkxqB"
   },
   "outputs": [],
   "source": [
    "#import basic required library\n",
    "import numpy as np\n",
    "import pandas as pd\n",
    "import matplotlib.pyplot as plt\n",
    "import seaborn as sns\n",
    "import warnings\n",
    "warnings.filterwarnings('ignore')"
   ]
  },
  {
   "cell_type": "code",
   "execution_count": 2,
   "metadata": {
    "colab": {
     "base_uri": "https://localhost:8080/",
     "height": 206
    },
    "executionInfo": {
     "elapsed": 36,
     "status": "ok",
     "timestamp": 1673183066498,
     "user": {
      "displayName": "Chandan Raj",
      "userId": "15270615075692593053"
     },
     "user_tz": -330
    },
    "id": "8yGmCgBhlZpu",
    "outputId": "d1b98291-8a31-4cff-87ac-40401eae7ef8"
   },
   "outputs": [
    {
     "data": {
      "text/html": [
       "<div>\n",
       "<style scoped>\n",
       "    .dataframe tbody tr th:only-of-type {\n",
       "        vertical-align: middle;\n",
       "    }\n",
       "\n",
       "    .dataframe tbody tr th {\n",
       "        vertical-align: top;\n",
       "    }\n",
       "\n",
       "    .dataframe thead th {\n",
       "        text-align: right;\n",
       "    }\n",
       "</style>\n",
       "<table border=\"1\" class=\"dataframe\">\n",
       "  <thead>\n",
       "    <tr style=\"text-align: right;\">\n",
       "      <th></th>\n",
       "      <th>sepal_length</th>\n",
       "      <th>sepal_width</th>\n",
       "      <th>petal_length</th>\n",
       "      <th>petal_width</th>\n",
       "      <th>species</th>\n",
       "    </tr>\n",
       "  </thead>\n",
       "  <tbody>\n",
       "    <tr>\n",
       "      <th>0</th>\n",
       "      <td>5.1</td>\n",
       "      <td>3.5</td>\n",
       "      <td>1.4</td>\n",
       "      <td>0.2</td>\n",
       "      <td>Iris-setosa</td>\n",
       "    </tr>\n",
       "    <tr>\n",
       "      <th>1</th>\n",
       "      <td>4.9</td>\n",
       "      <td>3.0</td>\n",
       "      <td>1.4</td>\n",
       "      <td>0.2</td>\n",
       "      <td>Iris-setosa</td>\n",
       "    </tr>\n",
       "    <tr>\n",
       "      <th>2</th>\n",
       "      <td>4.7</td>\n",
       "      <td>3.2</td>\n",
       "      <td>1.3</td>\n",
       "      <td>0.2</td>\n",
       "      <td>Iris-setosa</td>\n",
       "    </tr>\n",
       "    <tr>\n",
       "      <th>3</th>\n",
       "      <td>4.6</td>\n",
       "      <td>3.1</td>\n",
       "      <td>1.5</td>\n",
       "      <td>0.2</td>\n",
       "      <td>Iris-setosa</td>\n",
       "    </tr>\n",
       "    <tr>\n",
       "      <th>4</th>\n",
       "      <td>5.0</td>\n",
       "      <td>3.6</td>\n",
       "      <td>1.4</td>\n",
       "      <td>0.2</td>\n",
       "      <td>Iris-setosa</td>\n",
       "    </tr>\n",
       "  </tbody>\n",
       "</table>\n",
       "</div>"
      ],
      "text/plain": [
       "   sepal_length  sepal_width  petal_length  petal_width      species\n",
       "0           5.1          3.5           1.4          0.2  Iris-setosa\n",
       "1           4.9          3.0           1.4          0.2  Iris-setosa\n",
       "2           4.7          3.2           1.3          0.2  Iris-setosa\n",
       "3           4.6          3.1           1.5          0.2  Iris-setosa\n",
       "4           5.0          3.6           1.4          0.2  Iris-setosa"
      ]
     },
     "execution_count": 2,
     "metadata": {},
     "output_type": "execute_result"
    }
   ],
   "source": [
    "#to read dataset by using pandas library Read_csv and head shows first 5 record \n",
    "df=pd.read_csv(\"iris.csv\")\n",
    "df.head()"
   ]
  },
  {
   "cell_type": "code",
   "execution_count": 3,
   "metadata": {
    "colab": {
     "base_uri": "https://localhost:8080/"
    },
    "executionInfo": {
     "elapsed": 41,
     "status": "ok",
     "timestamp": 1673183066506,
     "user": {
      "displayName": "Chandan Raj",
      "userId": "15270615075692593053"
     },
     "user_tz": -330
    },
    "id": "eBtsojKFlixU",
    "outputId": "edfb760e-40f9-4ee2-a70f-30c1cf7dbbce"
   },
   "outputs": [
    {
     "data": {
      "text/plain": [
       "sepal_length    0\n",
       "sepal_width     0\n",
       "petal_length    0\n",
       "petal_width     0\n",
       "species         0\n",
       "dtype: int64"
      ]
     },
     "execution_count": 3,
     "metadata": {},
     "output_type": "execute_result"
    }
   ],
   "source": [
    "#check null values\n",
    "df.isna().sum()"
   ]
  },
  {
   "cell_type": "code",
   "execution_count": 4,
   "metadata": {
    "colab": {
     "base_uri": "https://localhost:8080/"
    },
    "executionInfo": {
     "elapsed": 37,
     "status": "ok",
     "timestamp": 1673183066507,
     "user": {
      "displayName": "Chandan Raj",
      "userId": "15270615075692593053"
     },
     "user_tz": -330
    },
    "id": "evd2UjkQl6FV",
    "outputId": "83b96dc7-87f0-4975-de5c-a80d32e50793"
   },
   "outputs": [
    {
     "name": "stdout",
     "output_type": "stream",
     "text": [
      "<class 'pandas.core.frame.DataFrame'>\n",
      "RangeIndex: 150 entries, 0 to 149\n",
      "Data columns (total 5 columns):\n",
      " #   Column        Non-Null Count  Dtype  \n",
      "---  ------        --------------  -----  \n",
      " 0   sepal_length  150 non-null    float64\n",
      " 1   sepal_width   150 non-null    float64\n",
      " 2   petal_length  150 non-null    float64\n",
      " 3   petal_width   150 non-null    float64\n",
      " 4   species       150 non-null    object \n",
      "dtypes: float64(4), object(1)\n",
      "memory usage: 6.0+ KB\n"
     ]
    }
   ],
   "source": [
    "#check complteate infomation of dataset\n",
    "df.info()"
   ]
  },
  {
   "cell_type": "code",
   "execution_count": 5,
   "metadata": {
    "colab": {
     "base_uri": "https://localhost:8080/",
     "height": 300
    },
    "executionInfo": {
     "elapsed": 33,
     "status": "ok",
     "timestamp": 1673183066508,
     "user": {
      "displayName": "Chandan Raj",
      "userId": "15270615075692593053"
     },
     "user_tz": -330
    },
    "id": "ypxBed6zl8ba",
    "outputId": "b9b93057-1d5c-4c3f-f279-a892d304261f"
   },
   "outputs": [
    {
     "data": {
      "text/html": [
       "<div>\n",
       "<style scoped>\n",
       "    .dataframe tbody tr th:only-of-type {\n",
       "        vertical-align: middle;\n",
       "    }\n",
       "\n",
       "    .dataframe tbody tr th {\n",
       "        vertical-align: top;\n",
       "    }\n",
       "\n",
       "    .dataframe thead th {\n",
       "        text-align: right;\n",
       "    }\n",
       "</style>\n",
       "<table border=\"1\" class=\"dataframe\">\n",
       "  <thead>\n",
       "    <tr style=\"text-align: right;\">\n",
       "      <th></th>\n",
       "      <th>sepal_length</th>\n",
       "      <th>sepal_width</th>\n",
       "      <th>petal_length</th>\n",
       "      <th>petal_width</th>\n",
       "    </tr>\n",
       "  </thead>\n",
       "  <tbody>\n",
       "    <tr>\n",
       "      <th>count</th>\n",
       "      <td>150.000000</td>\n",
       "      <td>150.000000</td>\n",
       "      <td>150.000000</td>\n",
       "      <td>150.000000</td>\n",
       "    </tr>\n",
       "    <tr>\n",
       "      <th>mean</th>\n",
       "      <td>5.843333</td>\n",
       "      <td>3.054000</td>\n",
       "      <td>3.758667</td>\n",
       "      <td>1.198667</td>\n",
       "    </tr>\n",
       "    <tr>\n",
       "      <th>std</th>\n",
       "      <td>0.828066</td>\n",
       "      <td>0.433594</td>\n",
       "      <td>1.764420</td>\n",
       "      <td>0.763161</td>\n",
       "    </tr>\n",
       "    <tr>\n",
       "      <th>min</th>\n",
       "      <td>4.300000</td>\n",
       "      <td>2.000000</td>\n",
       "      <td>1.000000</td>\n",
       "      <td>0.100000</td>\n",
       "    </tr>\n",
       "    <tr>\n",
       "      <th>25%</th>\n",
       "      <td>5.100000</td>\n",
       "      <td>2.800000</td>\n",
       "      <td>1.600000</td>\n",
       "      <td>0.300000</td>\n",
       "    </tr>\n",
       "    <tr>\n",
       "      <th>50%</th>\n",
       "      <td>5.800000</td>\n",
       "      <td>3.000000</td>\n",
       "      <td>4.350000</td>\n",
       "      <td>1.300000</td>\n",
       "    </tr>\n",
       "    <tr>\n",
       "      <th>75%</th>\n",
       "      <td>6.400000</td>\n",
       "      <td>3.300000</td>\n",
       "      <td>5.100000</td>\n",
       "      <td>1.800000</td>\n",
       "    </tr>\n",
       "    <tr>\n",
       "      <th>max</th>\n",
       "      <td>7.900000</td>\n",
       "      <td>4.400000</td>\n",
       "      <td>6.900000</td>\n",
       "      <td>2.500000</td>\n",
       "    </tr>\n",
       "  </tbody>\n",
       "</table>\n",
       "</div>"
      ],
      "text/plain": [
       "       sepal_length  sepal_width  petal_length  petal_width\n",
       "count    150.000000   150.000000    150.000000   150.000000\n",
       "mean       5.843333     3.054000      3.758667     1.198667\n",
       "std        0.828066     0.433594      1.764420     0.763161\n",
       "min        4.300000     2.000000      1.000000     0.100000\n",
       "25%        5.100000     2.800000      1.600000     0.300000\n",
       "50%        5.800000     3.000000      4.350000     1.300000\n",
       "75%        6.400000     3.300000      5.100000     1.800000\n",
       "max        7.900000     4.400000      6.900000     2.500000"
      ]
     },
     "execution_count": 5,
     "metadata": {},
     "output_type": "execute_result"
    }
   ],
   "source": [
    "#to check mean, max, of data\n",
    "df.describe()"
   ]
  },
  {
   "cell_type": "code",
   "execution_count": 6,
   "metadata": {
    "colab": {
     "base_uri": "https://localhost:8080/"
    },
    "executionInfo": {
     "elapsed": 32,
     "status": "ok",
     "timestamp": 1673183066509,
     "user": {
      "displayName": "Chandan Raj",
      "userId": "15270615075692593053"
     },
     "user_tz": -330
    },
    "id": "sR0t8uAtmD2i",
    "outputId": "ef66a60e-5d3d-40ea-ed5f-0ca64221d7c3"
   },
   "outputs": [
    {
     "data": {
      "text/plain": [
       "sepal_length    float64\n",
       "sepal_width     float64\n",
       "petal_length    float64\n",
       "petal_width     float64\n",
       "species          object\n",
       "dtype: object"
      ]
     },
     "execution_count": 6,
     "metadata": {},
     "output_type": "execute_result"
    }
   ],
   "source": [
    "#To check datatypes of columns\n",
    "df.dtypes"
   ]
  },
  {
   "cell_type": "code",
   "execution_count": 7,
   "metadata": {
    "colab": {
     "base_uri": "https://localhost:8080/",
     "height": 323
    },
    "executionInfo": {
     "elapsed": 930,
     "status": "ok",
     "timestamp": 1673183067416,
     "user": {
      "displayName": "Chandan Raj",
      "userId": "15270615075692593053"
     },
     "user_tz": -330
    },
    "id": "OMcU0o8Moldr",
    "outputId": "25651797-9c02-4120-c2f5-acf780ab9e2d"
   },
   "outputs": [
    {
     "data": {
      "image/png": "[encoded data removed]",
      "text/plain": [
       "<Figure size 432x288 with 2 Axes>"
      ]
     },
     "metadata": {
      "needs_background": "light"
     },
     "output_type": "display_data"
    }
   ],
   "source": [
    "#to visualize null value by heatmap\n",
    "sns.heatmap(df.isna())\n",
    "plt.show()"
   ]
  },
  {
   "cell_type": "code",
   "execution_count": 8,
   "metadata": {
    "colab": {
     "base_uri": "https://localhost:8080/",
     "height": 458
    },
    "executionInfo": {
     "elapsed": 53,
     "status": "ok",
     "timestamp": 1673183067416,
     "user": {
      "displayName": "Chandan Raj",
      "userId": "15270615075692593053"
     },
     "user_tz": -330
    },
    "id": "xvz79NEMpXl3",
    "outputId": "e7f77c7c-3aba-4711-dfa6-70d182af0b08"
   },
   "outputs": [
    {
     "data": {
      "image/png": "[encoded data removed]",
      "text/plain": [
       "<Figure size 720x504 with 1 Axes>"
      ]
     },
     "metadata": {
      "needs_background": "light"
     },
     "output_type": "display_data"
    }
   ],
   "source": [
    "fig = df[df.species == 'Iris-setosa'].plot(kind='scatter', x='sepal_length', y='sepal_width', color='orange', label='Setosa')\n",
    "df[df.species == 'Iris-versicolor'].plot(kind='scatter', x='sepal_length', y='sepal_width', color='blue', label='Versicolor', ax=fig)\n",
    "df[df.species == 'Iris-virginica'].plot(kind='scatter', x='sepal_length', y='sepal_width', color='green', label='Virginica', ax=fig)\n",
    "\n",
    "fig.set_xlabel('Sepal Length')\n",
    "fig.set_ylabel('Sepal Width')\n",
    "fig.set_title('Sepal Length Vs Width')\n",
    "\n",
    "fig=plt.gcf()\n",
    "fig.set_size_inches(10, 7)\n",
    "plt.show()"
   ]
  },
  {
   "cell_type": "code",
   "execution_count": 9,
   "metadata": {
    "colab": {
     "base_uri": "https://localhost:8080/",
     "height": 369
    },
    "executionInfo": {
     "elapsed": 1005,
     "status": "ok",
     "timestamp": 1673183068369,
     "user": {
      "displayName": "Chandan Raj",
      "userId": "15270615075692593053"
     },
     "user_tz": -330
    },
    "id": "fAEvanVmsvGl",
    "outputId": "5ae6c8cc-c908-4706-9ed9-9172238d7ae5"
   },
   "outputs": [
    {
     "data": {
      "image/png": "[encoded data removed]",
      "text/plain": [
       "<Figure size 463.25x360 with 1 Axes>"
      ]
     },
     "metadata": {
      "needs_background": "light"
     },
     "output_type": "display_data"
    }
   ],
   "source": [
    "sns.FacetGrid(df, hue='species', size=5)\\\n",
    "   .map(plt.scatter, 'sepal_length', 'sepal_width')\\\n",
    "   .add_legend()\n",
    "\n",
    "plt.show()"
   ]
  },
  {
   "cell_type": "code",
   "execution_count": 10,
   "metadata": {
    "colab": {
     "base_uri": "https://localhost:8080/",
     "height": 458
    },
    "executionInfo": {
     "elapsed": 29,
     "status": "ok",
     "timestamp": 1673183068371,
     "user": {
      "displayName": "Chandan Raj",
      "userId": "15270615075692593053"
     },
     "user_tz": -330
    },
    "id": "589qTWrDuhYq",
    "outputId": "037a6b3a-468a-4b4c-ad99-5aa630520daf"
   },
   "outputs": [
    {
     "data": {
      "image/png": "[encoded data removed]",
      "text/plain": [
       "<Figure size 720x504 with 1 Axes>"
      ]
     },
     "metadata": {
      "needs_background": "light"
     },
     "output_type": "display_data"
    }
   ],
   "source": [
    "fig = df[df.species == 'Iris-setosa'].plot(kind='scatter', x='petal_length', y='petal_width', color='orange', label='Setosa')\n",
    "df[df.species == 'Iris-versicolor'].plot(kind='scatter', x='petal_length', y='petal_width', color='blue', label='Versicolor', ax=fig)\n",
    "df[df.species == 'Iris-virginica'].plot(kind='scatter', x='petal_length', y='petal_width', color='green', label='Virginica', ax=fig)\n",
    "\n",
    "fig.set_xlabel('Petal Length')\n",
    "fig.set_ylabel('Petal Width')\n",
    "fig.set_title('Petal Length Vs Width')\n",
    "\n",
    "fig=plt.gcf()\n",
    "fig.set_size_inches(10, 7)\n",
    "plt.show()"
   ]
  },
  {
   "cell_type": "code",
   "execution_count": 11,
   "metadata": {
    "colab": {
     "base_uri": "https://localhost:8080/",
     "height": 390
    },
    "executionInfo": {
     "elapsed": 631,
     "status": "ok",
     "timestamp": 1673183068975,
     "user": {
      "displayName": "Chandan Raj",
      "userId": "15270615075692593053"
     },
     "user_tz": -330
    },
    "id": "o0PqziUJvIzG",
    "outputId": "2cef2cab-2674-4fd1-ef24-2b754172fa74"
   },
   "outputs": [
    {
     "data": {
      "image/png": "[encoded data removed]",
      "text/plain": [
       "<Figure size 864x432 with 4 Axes>"
      ]
     },
     "metadata": {
      "needs_background": "light"
     },
     "output_type": "display_data"
    }
   ],
   "source": [
    "df.hist(edgecolor='black', linewidth=1.2)\n",
    "fig = plt.gcf()\n",
    "fig.set_size_inches(12,6)\n",
    "plt.show()"
   ]
  },
  {
   "cell_type": "code",
   "execution_count": 12,
   "metadata": {
    "colab": {
     "base_uri": "https://localhost:8080/",
     "height": 592
    },
    "executionInfo": {
     "elapsed": 1403,
     "status": "ok",
     "timestamp": 1673183070369,
     "user": {
      "displayName": "Chandan Raj",
      "userId": "15270615075692593053"
     },
     "user_tz": -330
    },
    "id": "b4OtMlQdvSS9",
    "outputId": "a1cb5f82-1be6-472d-f904-71881b9fa25f"
   },
   "outputs": [
    {
     "data": {
      "image/png": "[encoded data removed]",
      "text/plain": [
       "<Figure size 1080x720 with 4 Axes>"
      ]
     },
     "metadata": {
      "needs_background": "light"
     },
     "output_type": "display_data"
    }
   ],
   "source": [
    "plt.figure(figsize=(15,10))\n",
    "plt.subplot(2,2,1)\n",
    "sns.violinplot(x='species', y = 'sepal_length', data=df)\n",
    "plt.subplot(2,2,2)\n",
    "sns.violinplot(x='species', y = 'sepal_width', data=df)\n",
    "\n",
    "plt.subplot(2,2,3)\n",
    "sns.violinplot(x='species', y = 'petal_length', data=df)\n",
    "plt.subplot(2,2,4)\n",
    "sns.violinplot(x='species', y = 'petal_width', data=df)\n",
    "plt.show()"
   ]
  },
  {
   "cell_type": "code",
   "execution_count": 13,
   "metadata": {
    "executionInfo": {
     "elapsed": 162,
     "status": "ok",
     "timestamp": 1673183070370,
     "user": {
      "displayName": "Chandan Raj",
      "userId": "15270615075692593053"
     },
     "user_tz": -330
    },
    "id": "ROq-Og5ZwXIK"
   },
   "outputs": [],
   "source": [
    "# importing alll the necessary packages to use the various classification algorithms\n",
    "from sklearn.linear_model import LogisticRegression # for Logistic Regression Algorithm\n",
    "from sklearn.model_selection import train_test_split # to split the dataset for training and testing \n",
    "from sklearn.neighbors import KNeighborsClassifier # KNN classifier\n",
    "from sklearn import svm # for suport vector machine algorithm\n",
    "from sklearn import metrics # for checking the model accuracy\n",
    "from sklearn.tree import DecisionTreeClassifier # for using DTA\n",
    "from sklearn.tree import DecisionTreeRegressor"
   ]
  },
  {
   "cell_type": "code",
   "execution_count": 14,
   "metadata": {
    "colab": {
     "base_uri": "https://localhost:8080/"
    },
    "executionInfo": {
     "elapsed": 161,
     "status": "ok",
     "timestamp": 1673183070371,
     "user": {
      "displayName": "Chandan Raj",
      "userId": "15270615075692593053"
     },
     "user_tz": -330
    },
    "id": "OpVupsbPw8G4",
    "outputId": "86d0e543-fd34-40b4-d42f-080512865ba8"
   },
   "outputs": [
    {
     "data": {
      "text/plain": [
       "(150, 5)"
      ]
     },
     "execution_count": 14,
     "metadata": {},
     "output_type": "execute_result"
    }
   ],
   "source": [
    "df.shape"
   ]
  },
  {
   "cell_type": "code",
   "execution_count": 15,
   "metadata": {
    "colab": {
     "base_uri": "https://localhost:8080/"
    },
    "executionInfo": {
     "elapsed": 154,
     "status": "ok",
     "timestamp": 1673183070372,
     "user": {
      "displayName": "Chandan Raj",
      "userId": "15270615075692593053"
     },
     "user_tz": -330
    },
    "id": "KBzfmdW05sdb",
    "outputId": "234bac8d-3dac-4c28-fd7b-9a7ab985da06"
   },
   "outputs": [
    {
     "data": {
      "text/plain": [
       "array([0, 1, 2])"
      ]
     },
     "execution_count": 15,
     "metadata": {},
     "output_type": "execute_result"
    }
   ],
   "source": [
    "# Import label encoder\n",
    "from sklearn import preprocessing\n",
    "\n",
    "# label_encoder object knows how to understand word labels.\n",
    "label_encoder = preprocessing.LabelEncoder()\n",
    "\n",
    "# Encode labels in column 'species'.\n",
    "df['species']= label_encoder.fit_transform(df['species'])\n",
    "\n",
    "df['species'].unique()"
   ]
  },
  {
   "cell_type": "code",
   "execution_count": 16,
   "metadata": {
    "colab": {
     "base_uri": "https://localhost:8080/"
    },
    "executionInfo": {
     "elapsed": 150,
     "status": "ok",
     "timestamp": 1673183070373,
     "user": {
      "displayName": "Chandan Raj",
      "userId": "15270615075692593053"
     },
     "user_tz": -330
    },
    "id": "SRG5Wd8JUmaF",
    "outputId": "79f4c5d8-36be-432c-e551-e75efc36f0b0"
   },
   "outputs": [
    {
     "name": "stdout",
     "output_type": "stream",
     "text": [
      "<class 'pandas.core.frame.DataFrame'>\n",
      "RangeIndex: 150 entries, 0 to 149\n",
      "Data columns (total 5 columns):\n",
      " #   Column        Non-Null Count  Dtype  \n",
      "---  ------        --------------  -----  \n",
      " 0   sepal_length  150 non-null    float64\n",
      " 1   sepal_width   150 non-null    float64\n",
      " 2   petal_length  150 non-null    float64\n",
      " 3   petal_width   150 non-null    float64\n",
      " 4   species       150 non-null    int32  \n",
      "dtypes: float64(4), int32(1)\n",
      "memory usage: 5.4 KB\n"
     ]
    }
   ],
   "source": [
    "df.info()"
   ]
  },
  {
   "cell_type": "code",
   "execution_count": 17,
   "metadata": {
    "executionInfo": {
     "elapsed": 146,
     "status": "ok",
     "timestamp": 1673183070373,
     "user": {
      "displayName": "Chandan Raj",
      "userId": "15270615075692593053"
     },
     "user_tz": -330
    },
    "id": "BIFQxNtM6Bvv"
   },
   "outputs": [],
   "source": [
    "#df=df.astype({\"species\":\"float\"})"
   ]
  },
  {
   "cell_type": "code",
   "execution_count": 18,
   "metadata": {
    "colab": {
     "base_uri": "https://localhost:8080/",
     "height": 270
    },
    "executionInfo": {
     "elapsed": 146,
     "status": "ok",
     "timestamp": 1673183070374,
     "user": {
      "displayName": "Chandan Raj",
      "userId": "15270615075692593053"
     },
     "user_tz": -330
    },
    "id": "aIjbdgyfxIvq",
    "outputId": "d8268183-ec3a-470a-86b0-36181e864f5d"
   },
   "outputs": [
    {
     "data": {
      "image/png": "[encoded data removed]",
      "text/plain": [
       "<Figure size 576x288 with 2 Axes>"
      ]
     },
     "metadata": {
      "needs_background": "light"
     },
     "output_type": "display_data"
    }
   ],
   "source": [
    "plt.figure(figsize=(8,4))\n",
    "sns.heatmap(df.corr(), annot=True, cmap='cubehelix_r') # draws heatmap with input as correlation matrix calculated by df.corr() \n",
    "plt.show()"
   ]
  },
  {
   "cell_type": "code",
   "execution_count": 19,
   "metadata": {
    "colab": {
     "base_uri": "https://localhost:8080/"
    },
    "executionInfo": {
     "elapsed": 145,
     "status": "ok",
     "timestamp": 1673183070375,
     "user": {
      "displayName": "Chandan Raj",
      "userId": "15270615075692593053"
     },
     "user_tz": -330
    },
    "id": "WmroYJ2nxegW",
    "outputId": "f22a153e-3d01-42ff-ade6-b0d8ec1f44e4"
   },
   "outputs": [
    {
     "name": "stdout",
     "output_type": "stream",
     "text": [
      "(105, 5)\n",
      "(45, 5)\n"
     ]
    }
   ],
   "source": [
    "# split the dataset into train test\n",
    "train, test = train_test_split(df, test_size=0.3) # our main data split into train and test\n",
    "# the attribute test_size=0.3 splits the data into 70% and 30% ratio. train=70% and test=30%\n",
    "print(train.shape)\n",
    "print(test.shape)"
   ]
  },
  {
   "cell_type": "code",
   "execution_count": 20,
   "metadata": {
    "executionInfo": {
     "elapsed": 141,
     "status": "ok",
     "timestamp": 1673183070375,
     "user": {
      "displayName": "Chandan Raj",
      "userId": "15270615075692593053"
     },
     "user_tz": -330
    },
    "id": "KFvBfdZdx4gl"
   },
   "outputs": [],
   "source": [
    "train_X = train[['sepal_length','sepal_width','petal_length','petal_width']] # taking the training data features\n",
    "train_y = train.species # output of the training data\n",
    "\n",
    "test_X = test[['sepal_length','sepal_width','petal_length','petal_width']] # taking test data feature\n",
    "test_y = test.species # output value of the test data"
   ]
  },
  {
   "cell_type": "code",
   "execution_count": 21,
   "metadata": {
    "colab": {
     "base_uri": "https://localhost:8080/",
     "height": 206
    },
    "executionInfo": {
     "elapsed": 141,
     "status": "ok",
     "timestamp": 1673183070376,
     "user": {
      "displayName": "Chandan Raj",
      "userId": "15270615075692593053"
     },
     "user_tz": -330
    },
    "id": "iFq_c1RCyPG0",
    "outputId": "c1fdec20-4ef8-42bf-e3b0-9977484c5451"
   },
   "outputs": [
    {
     "data": {
      "text/html": [
       "<div>\n",
       "<style scoped>\n",
       "    .dataframe tbody tr th:only-of-type {\n",
       "        vertical-align: middle;\n",
       "    }\n",
       "\n",
       "    .dataframe tbody tr th {\n",
       "        vertical-align: top;\n",
       "    }\n",
       "\n",
       "    .dataframe thead th {\n",
       "        text-align: right;\n",
       "    }\n",
       "</style>\n",
       "<table border=\"1\" class=\"dataframe\">\n",
       "  <thead>\n",
       "    <tr style=\"text-align: right;\">\n",
       "      <th></th>\n",
       "      <th>sepal_length</th>\n",
       "      <th>sepal_width</th>\n",
       "      <th>petal_length</th>\n",
       "      <th>petal_width</th>\n",
       "    </tr>\n",
       "  </thead>\n",
       "  <tbody>\n",
       "    <tr>\n",
       "      <th>25</th>\n",
       "      <td>5.0</td>\n",
       "      <td>3.0</td>\n",
       "      <td>1.6</td>\n",
       "      <td>0.2</td>\n",
       "    </tr>\n",
       "    <tr>\n",
       "      <th>128</th>\n",
       "      <td>6.4</td>\n",
       "      <td>2.8</td>\n",
       "      <td>5.6</td>\n",
       "      <td>2.1</td>\n",
       "    </tr>\n",
       "    <tr>\n",
       "      <th>74</th>\n",
       "      <td>6.4</td>\n",
       "      <td>2.9</td>\n",
       "      <td>4.3</td>\n",
       "      <td>1.3</td>\n",
       "    </tr>\n",
       "    <tr>\n",
       "      <th>149</th>\n",
       "      <td>5.9</td>\n",
       "      <td>3.0</td>\n",
       "      <td>5.1</td>\n",
       "      <td>1.8</td>\n",
       "    </tr>\n",
       "    <tr>\n",
       "      <th>68</th>\n",
       "      <td>6.2</td>\n",
       "      <td>2.2</td>\n",
       "      <td>4.5</td>\n",
       "      <td>1.5</td>\n",
       "    </tr>\n",
       "  </tbody>\n",
       "</table>\n",
       "</div>"
      ],
      "text/plain": [
       "     sepal_length  sepal_width  petal_length  petal_width\n",
       "25            5.0          3.0           1.6          0.2\n",
       "128           6.4          2.8           5.6          2.1\n",
       "74            6.4          2.9           4.3          1.3\n",
       "149           5.9          3.0           5.1          1.8\n",
       "68            6.2          2.2           4.5          1.5"
      ]
     },
     "execution_count": 21,
     "metadata": {},
     "output_type": "execute_result"
    }
   ],
   "source": [
    "train_X.head()"
   ]
  },
  {
   "cell_type": "code",
   "execution_count": 22,
   "metadata": {
    "colab": {
     "base_uri": "https://localhost:8080/",
     "height": 206
    },
    "executionInfo": {
     "elapsed": 140,
     "status": "ok",
     "timestamp": 1673183070377,
     "user": {
      "displayName": "Chandan Raj",
      "userId": "15270615075692593053"
     },
     "user_tz": -330
    },
    "id": "fNfQ7bNxyRde",
    "outputId": "1274948c-4f1f-4e28-feb8-88d2b999f89a"
   },
   "outputs": [
    {
     "data": {
      "text/html": [
       "<div>\n",
       "<style scoped>\n",
       "    .dataframe tbody tr th:only-of-type {\n",
       "        vertical-align: middle;\n",
       "    }\n",
       "\n",
       "    .dataframe tbody tr th {\n",
       "        vertical-align: top;\n",
       "    }\n",
       "\n",
       "    .dataframe thead th {\n",
       "        text-align: right;\n",
       "    }\n",
       "</style>\n",
       "<table border=\"1\" class=\"dataframe\">\n",
       "  <thead>\n",
       "    <tr style=\"text-align: right;\">\n",
       "      <th></th>\n",
       "      <th>sepal_length</th>\n",
       "      <th>sepal_width</th>\n",
       "      <th>petal_length</th>\n",
       "      <th>petal_width</th>\n",
       "    </tr>\n",
       "  </thead>\n",
       "  <tbody>\n",
       "    <tr>\n",
       "      <th>130</th>\n",
       "      <td>7.4</td>\n",
       "      <td>2.8</td>\n",
       "      <td>6.1</td>\n",
       "      <td>1.9</td>\n",
       "    </tr>\n",
       "    <tr>\n",
       "      <th>82</th>\n",
       "      <td>5.8</td>\n",
       "      <td>2.7</td>\n",
       "      <td>3.9</td>\n",
       "      <td>1.2</td>\n",
       "    </tr>\n",
       "    <tr>\n",
       "      <th>77</th>\n",
       "      <td>6.7</td>\n",
       "      <td>3.0</td>\n",
       "      <td>5.0</td>\n",
       "      <td>1.7</td>\n",
       "    </tr>\n",
       "    <tr>\n",
       "      <th>35</th>\n",
       "      <td>5.0</td>\n",
       "      <td>3.2</td>\n",
       "      <td>1.2</td>\n",
       "      <td>0.2</td>\n",
       "    </tr>\n",
       "    <tr>\n",
       "      <th>15</th>\n",
       "      <td>5.7</td>\n",
       "      <td>4.4</td>\n",
       "      <td>1.5</td>\n",
       "      <td>0.4</td>\n",
       "    </tr>\n",
       "  </tbody>\n",
       "</table>\n",
       "</div>"
      ],
      "text/plain": [
       "     sepal_length  sepal_width  petal_length  petal_width\n",
       "130           7.4          2.8           6.1          1.9\n",
       "82            5.8          2.7           3.9          1.2\n",
       "77            6.7          3.0           5.0          1.7\n",
       "35            5.0          3.2           1.2          0.2\n",
       "15            5.7          4.4           1.5          0.4"
      ]
     },
     "execution_count": 22,
     "metadata": {},
     "output_type": "execute_result"
    }
   ],
   "source": [
    "test_X.head()"
   ]
  },
  {
   "cell_type": "code",
   "execution_count": 23,
   "metadata": {
    "colab": {
     "base_uri": "https://localhost:8080/"
    },
    "executionInfo": {
     "elapsed": 138,
     "status": "ok",
     "timestamp": 1673183070377,
     "user": {
      "displayName": "Chandan Raj",
      "userId": "15270615075692593053"
     },
     "user_tz": -330
    },
    "id": "Ex636eCEyVEL",
    "outputId": "34f04b7e-7f7a-477a-9d19-94e01a3ee9b1"
   },
   "outputs": [
    {
     "data": {
      "text/plain": [
       "25     0\n",
       "128    2\n",
       "74     1\n",
       "149    2\n",
       "68     1\n",
       "Name: species, dtype: int32"
      ]
     },
     "execution_count": 23,
     "metadata": {},
     "output_type": "execute_result"
    }
   ],
   "source": [
    "train_y.head()"
   ]
  },
  {
   "cell_type": "markdown",
   "metadata": {
    "id": "t7Khc3qRyhxh"
   },
   "source": [
    "Support Vector Machine SVM"
   ]
  },
  {
   "cell_type": "code",
   "execution_count": 24,
   "metadata": {
    "colab": {
     "base_uri": "https://localhost:8080/"
    },
    "executionInfo": {
     "elapsed": 130,
     "status": "ok",
     "timestamp": 1673183070378,
     "user": {
      "displayName": "Chandan Raj",
      "userId": "15270615075692593053"
     },
     "user_tz": -330
    },
    "id": "XT7TRWLJyXVL",
    "outputId": "f3a296f3-44ae-4578-b3a5-2f1cd6838d82"
   },
   "outputs": [
    {
     "name": "stdout",
     "output_type": "stream",
     "text": [
      "The accuracy of the SVM is:  0.9333333333333333\n"
     ]
    }
   ],
   "source": [
    "model = svm.SVC() # select the svm algorithm\n",
    "\n",
    "# we train the algorithm with training data and training output\n",
    "model.fit(train_X, train_y)\n",
    "\n",
    "# we pass the testing data to the stored algorithm to predict the outcome\n",
    "prediction = model.predict(test_X)\n",
    "print('The accuracy of the SVM is: ', metrics.accuracy_score(prediction, test_y)) # we check the accuracy of the algorithm\n",
    "#we pass the predicted output by the model and the actual output"
   ]
  },
  {
   "cell_type": "code",
   "execution_count": 25,
   "metadata": {
    "executionInfo": {
     "elapsed": 792,
     "status": "ok",
     "timestamp": 1673183071044,
     "user": {
      "displayName": "Chandan Raj",
      "userId": "15270615075692593053"
     },
     "user_tz": -330
    },
    "id": "NltgiHxYyovq"
   },
   "outputs": [],
   "source": [
    "#SVM is giving very good accuracy . We will continue to check the accuracy for different models."
   ]
  },
  {
   "cell_type": "markdown",
   "metadata": {
    "id": "ztEKKcvQy0TQ"
   },
   "source": [
    "Logistic Regression"
   ]
  },
  {
   "cell_type": "code",
   "execution_count": 26,
   "metadata": {
    "colab": {
     "base_uri": "https://localhost:8080/"
    },
    "executionInfo": {
     "elapsed": 68,
     "status": "ok",
     "timestamp": 1673183071044,
     "user": {
      "displayName": "Chandan Raj",
      "userId": "15270615075692593053"
     },
     "user_tz": -330
    },
    "id": "pLfCD0R2yx7t",
    "outputId": "42b147dc-8242-41a3-bb8b-77bce6bcf29f"
   },
   "outputs": [
    {
     "name": "stdout",
     "output_type": "stream",
     "text": [
      "The accuracy of Logistic Regression is:  0.9333333333333333\n"
     ]
    }
   ],
   "source": [
    "model = LogisticRegression()\n",
    "model.fit(train_X, train_y)\n",
    "prediction = model.predict(test_X)\n",
    "print('The accuracy of Logistic Regression is: ', metrics.accuracy_score(prediction, test_y))"
   ]
  },
  {
   "cell_type": "markdown",
   "metadata": {
    "id": "gZgtA7i8y7Kx"
   },
   "source": [
    "Decision Tree"
   ]
  },
  {
   "cell_type": "code",
   "execution_count": 27,
   "metadata": {
    "colab": {
     "base_uri": "https://localhost:8080/"
    },
    "executionInfo": {
     "elapsed": 63,
     "status": "ok",
     "timestamp": 1673183071044,
     "user": {
      "displayName": "Chandan Raj",
      "userId": "15270615075692593053"
     },
     "user_tz": -330
    },
    "id": "5ZES_tq7y4mi",
    "outputId": "97aba420-b446-46d8-b79c-214dcf2ea309"
   },
   "outputs": [
    {
     "name": "stdout",
     "output_type": "stream",
     "text": [
      "The accuracy of Decision Tree is:  0.9333333333333333\n"
     ]
    }
   ],
   "source": [
    "model = DecisionTreeClassifier()\n",
    "model.fit(train_X, train_y)\n",
    "prediction = model.predict(test_X)\n",
    "print('The accuracy of Decision Tree is: ', metrics.accuracy_score(prediction, test_y))"
   ]
  },
  {
   "cell_type": "markdown",
   "metadata": {
    "id": "opm-e9D2zAuI"
   },
   "source": [
    "K-Nearest Neighbors"
   ]
  },
  {
   "cell_type": "code",
   "execution_count": 28,
   "metadata": {
    "colab": {
     "base_uri": "https://localhost:8080/"
    },
    "executionInfo": {
     "elapsed": 59,
     "status": "ok",
     "timestamp": 1673183071045,
     "user": {
      "displayName": "Chandan Raj",
      "userId": "15270615075692593053"
     },
     "user_tz": -330
    },
    "id": "CRyZRO0fy9qJ",
    "outputId": "d56b6784-84ba-43e6-b4e4-1176c49e0eaf"
   },
   "outputs": [
    {
     "name": "stdout",
     "output_type": "stream",
     "text": [
      "The accuracy of KNN is:  0.9111111111111111\n"
     ]
    }
   ],
   "source": [
    "model = KNeighborsClassifier(n_neighbors=3) # this examines 3 neighbors for putting the data into class\n",
    "model.fit(train_X, train_y)\n",
    "prediction = model.predict(test_X)\n",
    "print('The accuracy of KNN is: ', metrics.accuracy_score(prediction, test_y))"
   ]
  },
  {
   "cell_type": "markdown",
   "metadata": {
    "id": "ipGfahrPzO_J"
   },
   "source": [
    "Let's Visulaize the accuracy for various values of n for K-Nearest nerighbours"
   ]
  },
  {
   "cell_type": "code",
   "execution_count": 29,
   "metadata": {
    "colab": {
     "base_uri": "https://localhost:8080/",
     "height": 265
    },
    "executionInfo": {
     "elapsed": 56,
     "status": "ok",
     "timestamp": 1673183071045,
     "user": {
      "displayName": "Chandan Raj",
      "userId": "15270615075692593053"
     },
     "user_tz": -330
    },
    "id": "AGImwDoUzDYp",
    "outputId": "6ba939c9-846a-479f-bfa5-2c681bc2b9fa"
   },
   "outputs": [
    {
     "data": {
      "image/png": "[encoded data removed]",
      "text/plain": [
       "<Figure size 432x288 with 1 Axes>"
      ]
     },
     "metadata": {
      "needs_background": "light"
     },
     "output_type": "display_data"
    }
   ],
   "source": [
    "a_index = list(range(1,11))\n",
    "a = pd.Series()\n",
    "for i in list(range(1,11)):\n",
    "    model = KNeighborsClassifier(n_neighbors=i)\n",
    "    model.fit(train_X, train_y)\n",
    "    prediction = model.predict(test_X)\n",
    "    a = a.append(pd.Series(metrics.accuracy_score(prediction, test_y)))\n",
    "plt.plot(a_index, a)\n",
    "x = [1,2,3,4,5,6,7,8,9,10]\n",
    "plt.xticks(x)\n",
    "plt.show()"
   ]
  },
  {
   "cell_type": "code",
   "execution_count": 30,
   "metadata": {
    "executionInfo": {
     "elapsed": 56,
     "status": "ok",
     "timestamp": 1673183071046,
     "user": {
      "displayName": "Chandan Raj",
      "userId": "15270615075692593053"
     },
     "user_tz": -330
    },
    "id": "AVYyPECTzX64"
   },
   "outputs": [],
   "source": [
    "#We used all the features of iris in above models. Now we will use Petals and Sepals Seperately"
   ]
  },
  {
   "cell_type": "code",
   "execution_count": 31,
   "metadata": {
    "executionInfo": {
     "elapsed": 55,
     "status": "ok",
     "timestamp": 1673183071046,
     "user": {
      "displayName": "Chandan Raj",
      "userId": "15270615075692593053"
     },
     "user_tz": -330
    },
    "id": "SEk9qrm70vHP"
   },
   "outputs": [],
   "source": [
    "#Creating Petals And Sepals Training Data\n",
    "petal = df[['petal_length','petal_width','species']]\n",
    "sepal = df[['sepal_length','sepal_width','species']]"
   ]
  },
  {
   "cell_type": "code",
   "execution_count": 32,
   "metadata": {
    "executionInfo": {
     "elapsed": 54,
     "status": "ok",
     "timestamp": 1673183071047,
     "user": {
      "displayName": "Chandan Raj",
      "userId": "15270615075692593053"
     },
     "user_tz": -330
    },
    "id": "dYRLiuI51VLr"
   },
   "outputs": [],
   "source": [
    "#For Iris Petal\n",
    "train_p,test_p = train_test_split(petal, test_size=0.3, random_state=0) #petals\n",
    "train_x_p = train_p[['petal_width','petal_length']]\n",
    "train_y_p = train_p.species\n",
    "\n",
    "test_x_p = test_p[['petal_width','petal_length']]\n",
    "test_y_p = test_p.species"
   ]
  },
  {
   "cell_type": "code",
   "execution_count": 33,
   "metadata": {
    "executionInfo": {
     "elapsed": 54,
     "status": "ok",
     "timestamp": 1673183071047,
     "user": {
      "displayName": "Chandan Raj",
      "userId": "15270615075692593053"
     },
     "user_tz": -330
    },
    "id": "3afZS3dS1m9s"
   },
   "outputs": [],
   "source": [
    "#For Iris Sepal\n",
    "train_s,test_s = train_test_split(sepal, test_size=0.3, random_state=0) #sepals\n",
    "train_x_s = train_s[['sepal_width','sepal_length']]\n",
    "train_y_s = train_s.species\n",
    "\n",
    "test_x_s = test_s[['sepal_width','sepal_length']]\n",
    "test_y_s = test_s.species"
   ]
  },
  {
   "cell_type": "code",
   "execution_count": 34,
   "metadata": {
    "colab": {
     "base_uri": "https://localhost:8080/"
    },
    "executionInfo": {
     "elapsed": 50,
     "status": "ok",
     "timestamp": 1673183071047,
     "user": {
      "displayName": "Chandan Raj",
      "userId": "15270615075692593053"
     },
     "user_tz": -330
    },
    "id": "5gFLnenC1zKb",
    "outputId": "b18b63c5-0e70-41e5-ba39-9451dbe5b489"
   },
   "outputs": [
    {
     "name": "stdout",
     "output_type": "stream",
     "text": [
      "The accuracy of the SVM using Petals is: 0.9777777777777777\n",
      "The accuracy of the SVM using Sepals is: 0.8\n"
     ]
    }
   ],
   "source": [
    "#SVM algo\n",
    "model=svm.SVC()\n",
    "model.fit(train_x_p,train_y_p) \n",
    "prediction=model.predict(test_x_p) \n",
    "print('The accuracy of the SVM using Petals is:',metrics.accuracy_score(prediction,test_y_p))\n",
    "\n",
    "model=svm.SVC()\n",
    "model.fit(train_x_s,train_y_s) \n",
    "prediction=model.predict(test_x_s) \n",
    "print('The accuracy of the SVM using Sepals is:',metrics.accuracy_score(prediction,test_y_s))"
   ]
  },
  {
   "cell_type": "code",
   "execution_count": 35,
   "metadata": {
    "colab": {
     "base_uri": "https://localhost:8080/"
    },
    "executionInfo": {
     "elapsed": 47,
     "status": "ok",
     "timestamp": 1673183071048,
     "user": {
      "displayName": "Chandan Raj",
      "userId": "15270615075692593053"
     },
     "user_tz": -330
    },
    "id": "ReY_WFwp19Gv",
    "outputId": "a127c526-46bd-4df3-de21-fd7ec9e0cacf"
   },
   "outputs": [
    {
     "name": "stdout",
     "output_type": "stream",
     "text": [
      "The accuracy of the Logistic Regression using Petals is: 0.9777777777777777\n",
      "The accuracy of the Logistic Regression using Sepals is: 0.8222222222222222\n"
     ]
    }
   ],
   "source": [
    "#Logistic Regression\n",
    "model = LogisticRegression()\n",
    "model.fit(train_x_p,train_y_p) \n",
    "prediction=model.predict(test_x_p) \n",
    "print('The accuracy of the Logistic Regression using Petals is:',metrics.accuracy_score(prediction,test_y_p))\n",
    "\n",
    "model.fit(train_x_s,train_y_s) \n",
    "prediction=model.predict(test_x_s) \n",
    "print('The accuracy of the Logistic Regression using Sepals is:',metrics.accuracy_score(prediction,test_y_s))"
   ]
  },
  {
   "cell_type": "code",
   "execution_count": 36,
   "metadata": {
    "colab": {
     "base_uri": "https://localhost:8080/"
    },
    "executionInfo": {
     "elapsed": 42,
     "status": "ok",
     "timestamp": 1673183071048,
     "user": {
      "displayName": "Chandan Raj",
      "userId": "15270615075692593053"
     },
     "user_tz": -330
    },
    "id": "FOVLZ0HI2Do_",
    "outputId": "ec99a5c6-835e-404d-c12f-50e7d44c4c49"
   },
   "outputs": [
    {
     "name": "stdout",
     "output_type": "stream",
     "text": [
      "The accuracy of the Decision Tree using Petals is: 0.9555555555555556\n",
      "The accuracy of the Decision Tree using Sepals is: 0.6666666666666666\n"
     ]
    }
   ],
   "source": [
    "#Decission Tree\n",
    "model=DecisionTreeClassifier()\n",
    "model.fit(train_x_p,train_y_p) \n",
    "prediction=model.predict(test_x_p) \n",
    "print('The accuracy of the Decision Tree using Petals is:',metrics.accuracy_score(prediction,test_y_p))\n",
    "\n",
    "model.fit(train_x_s,train_y_s) \n",
    "prediction=model.predict(test_x_s) \n",
    "print('The accuracy of the Decision Tree using Sepals is:',metrics.accuracy_score(prediction,test_y_s))"
   ]
  },
  {
   "cell_type": "code",
   "execution_count": null,
   "metadata": {
    "executionInfo": {
     "elapsed": 38,
     "status": "ok",
     "timestamp": 1673183071048,
     "user": {
      "displayName": "Chandan Raj",
      "userId": "15270615075692593053"
     },
     "user_tz": -330
    },
    "id": "NeS_nYZI6xNC"
   },
   "outputs": [],
   "source": []
  },
  {
   "cell_type": "code",
   "execution_count": 37,
   "metadata": {
    "colab": {
     "base_uri": "https://localhost:8080/"
    },
    "executionInfo": {
     "elapsed": 39,
     "status": "ok",
     "timestamp": 1673183071049,
     "user": {
      "displayName": "Chandan Raj",
      "userId": "15270615075692593053"
     },
     "user_tz": -330
    },
    "id": "vRv9HfTa2IXv",
    "outputId": "a174d81f-04f4-4392-b020-51580e62fd9d"
   },
   "outputs": [],
   "source": [
    "#K-Nearest Neighbors\n",
    "#model=KNeighborsClassifier(n_neighbors=3) \n",
    "#model.fit(train_x_p,train_y_p) \n",
    "#prediction=model.predict(test_x_p) \n",
    "#print('The accuracy of the KNN using Petals is:',metrics.accuracy_score(prediction,test_y_p))\n",
    "\n",
    "#model.fit(train_x_s,train_y_s) \n",
    "#prediction=model.predict(test_x_s) \n",
    "#print('The accuracy of the KNN using Sepals is:',metrics.accuracy_score(prediction,test_y_s))"
   ]
  },
  {
   "cell_type": "code",
   "execution_count": 38,
   "metadata": {
    "executionInfo": {
     "elapsed": 36,
     "status": "ok",
     "timestamp": 1673183071049,
     "user": {
      "displayName": "Chandan Raj",
      "userId": "15270615075692593053"
     },
     "user_tz": -330
    },
    "id": "PF7BTARg2cYm"
   },
   "outputs": [],
   "source": [
    "#Using Petals over Sepal for training the data gives a much better accuracy.\n"
   ]
  },
  {
   "cell_type": "code",
   "execution_count": 39,
   "metadata": {
    "colab": {
     "base_uri": "https://localhost:8080/"
    },
    "executionInfo": {
     "elapsed": 35,
     "status": "ok",
     "timestamp": 1673183071049,
     "user": {
      "displayName": "Chandan Raj",
      "userId": "15270615075692593053"
     },
     "user_tz": -330
    },
    "id": "k3Z33NWa4jxY",
    "outputId": "23fb0ce2-bc0f-4925-ffeb-6ee216dfb14a"
   },
   "outputs": [
    {
     "name": "stdout",
     "output_type": "stream",
     "text": [
      "The accuracy of Random Forest Tree is:  0.9111111111111111\n"
     ]
    }
   ],
   "source": [
    "# import the regressor\n",
    "from sklearn.ensemble import RandomForestRegressor\n",
    "rfr = RandomForestRegressor({ \n",
    "          \"model_name\": \"Random Forest Regressor\",\n",
    "          \"is_selected\": True,\n",
    "          \"min_trees\": 10,\n",
    "          \"max_trees\": 20,\n",
    "          \"feature_sampling_statergy\": \"Default\",\n",
    "          \"min_depth\": 20,\n",
    "          \"max_depth\": 25,\n",
    "          \"min_samples_per_leaf_min_value\": 5,\n",
    "          \"min_samples_per_leaf_max_value\": 10,\n",
    "          \"parallelism\": 0\n",
    "        }\n",
    ")\n",
    "model.fit(train_X, train_y)\n",
    "prediction = model.predict(test_X)\n",
    "print('The accuracy of Random Forest Tree is: ', metrics.accuracy_score(prediction, test_y))\n",
    "\n"
   ]
  },
  {
   "cell_type": "code",
   "execution_count": 40,
   "metadata": {
    "colab": {
     "base_uri": "https://localhost:8080/"
    },
    "executionInfo": {
     "elapsed": 32,
     "status": "ok",
     "timestamp": 1673183071050,
     "user": {
      "displayName": "Chandan Raj",
      "userId": "15270615075692593053"
     },
     "user_tz": -330
    },
    "id": "5PFATllHA_la",
    "outputId": "483123a2-a100-47d9-90a2-d86037591396"
   },
   "outputs": [
    {
     "name": "stdout",
     "output_type": "stream",
     "text": [
      "The accuracy of Random Forest Classifier is:  0.9111111111111111\n"
     ]
    }
   ],
   "source": [
    "# import the regressor\n",
    "from sklearn.ensemble import RandomForestClassifier\n",
    "rfc = RandomForestClassifier({ \n",
    "          \"is_selected\": False,\n",
    "          \"min_trees\": 10,\n",
    "          \"max_trees\": 30,\n",
    "          \"feature_sampling_statergy\": \"Default\",\n",
    "          \"min_depth\": 20,\n",
    "          \"max_depth\": 30,\n",
    "          \"min_samples_per_leaf_min_value\": 5,\n",
    "          \"min_samples_per_leaf_max_value\": 50,\n",
    "          \"parallelism\": 0\n",
    "\n",
    "        }\n",
    ")\n",
    "model.fit(train_X, train_y)\n",
    "prediction = model.predict(test_X)\n",
    "print('The accuracy of Random Forest Classifier is: ', metrics.accuracy_score(prediction, test_y))\n",
    "\n"
   ]
  },
  {
   "cell_type": "code",
   "execution_count": 41,
   "metadata": {
    "colab": {
     "base_uri": "https://localhost:8080/"
    },
    "executionInfo": {
     "elapsed": 4801,
     "status": "ok",
     "timestamp": 1673183075823,
     "user": {
      "displayName": "Chandan Raj",
      "userId": "15270615075692593053"
     },
     "user_tz": -330
    },
    "id": "tm2HvaYeBmbG",
    "outputId": "f6794dda-2705-4b84-8400-d55f20a5d200"
   },
   "outputs": [],
   "source": [
    "#!pip install Flask-Session"
   ]
  },
  {
   "cell_type": "code",
   "execution_count": 42,
   "metadata": {
    "executionInfo": {
     "elapsed": 610,
     "status": "ok",
     "timestamp": 1673183076424,
     "user": {
      "displayName": "Chandan Raj",
      "userId": "15270615075692593053"
     },
     "user_tz": -330
    },
    "id": "UuW38OtsCe3z"
   },
   "outputs": [],
   "source": [
    "from flask import Flask, render_template, redirect, request, session\n",
    "from flask_session import Session"
   ]
  },
  {
   "cell_type": "code",
   "execution_count": 43,
   "metadata": {
    "executionInfo": {
     "elapsed": 23,
     "status": "ok",
     "timestamp": 1673183076433,
     "user": {
      "displayName": "Chandan Raj",
      "userId": "15270615075692593053"
     },
     "user_tz": -330
    },
    "id": "KV9S_PXhDIfE"
   },
   "outputs": [],
   "source": [
    "from sklearn.ensemble import GradientBoostingClassifier"
   ]
  },
  {
   "cell_type": "code",
   "execution_count": 44,
   "metadata": {
    "colab": {
     "base_uri": "https://localhost:8080/",
     "height": 235
    },
    "executionInfo": {
     "elapsed": 22,
     "status": "error",
     "timestamp": 1673183076434,
     "user": {
      "displayName": "Chandan Raj",
      "userId": "15270615075692593053"
     },
     "user_tz": -330
    },
    "id": "xdLgBC13Eyzh",
    "outputId": "d6ad7962-03b6-495b-d3ad-874ee1f986f7"
   },
   "outputs": [
    {
     "name": "stdout",
     "output_type": "stream",
     "text": [
      "The accuracy of Gradient Boosting Classifier is:  0.9333333333333333\n"
     ]
    }
   ],
   "source": [
    "# import the classifier\n",
    "from sklearn.ensemble import GradientBoostingClassifier\n",
    "gbc = GradientBoostingClassifier({\n",
    "          \"is_selected\": False,\n",
    "          \"num_of_BoostingStages\": [67, 89],\n",
    "          \"feature_sampling_statergy\": \"Fixed number\",\n",
    "          \"learningRate\": [],\n",
    "          \"use_deviance\": True,\n",
    "          \"use_exponential\": False,\n",
    "          \"fixed_number\": 22,\n",
    "          \"min_subsample\": 1,\n",
    "          \"max_subsample\": 2,\n",
    "          \"min_stepsize\":0.1,\n",
    "          \"max_stepsize\":0.5, \n",
    "          \"min_iter\":20,\n",
    "          \"max_iter\":40,\n",
    "          \"min_depth\":5,\n",
    "          \"max_depth\":7\n",
    "\n",
    "          }\n",
    ")\n",
    "model.fit(train_X, train_y)\n",
    "prediction = model.predict(test_X)\n",
    "print('The accuracy of Gradient Boosting Classifier is: ', metrics.accuracy_score(prediction, test_y))\n",
    "\n"
   ]
  },
  {
   "cell_type": "code",
   "execution_count": 45,
   "metadata": {
    "colab": {
     "base_uri": "https://localhost:8080/"
    },
    "executionInfo": {
     "elapsed": 395,
     "status": "ok",
     "timestamp": 1673183091199,
     "user": {
      "displayName": "Chandan Raj",
      "userId": "15270615075692593053"
     },
     "user_tz": -330
    },
    "id": "22ZuKJhNFmn0",
    "outputId": "95f99f6c-b227-45f4-e6df-c7f828d96e83"
   },
   "outputs": [
    {
     "name": "stdout",
     "output_type": "stream",
     "text": [
      "The accuracy of Decision Tree is:  0.9555555555555556\n"
     ]
    }
   ],
   "source": [
    "from xgboost import XGBClassifier\n",
    "# read data\n",
    "#from sklearn.datasets import load_iris\n",
    "\n",
    "# create model instance\n",
    "xgb = XGBClassifier({\n",
    "          \"model_name\": \"XG Boost\",\n",
    "          \"is_selected\": False,\n",
    "          \"use_gradient_boosted_tree\": True,\n",
    "          \"dart\": True,\n",
    "          \"tree_method\": \"\",\n",
    "          \"random_state\": 0,\n",
    "          \"max_num_of_trees\": 0,\n",
    "          \"early_stopping\": True,\n",
    "          \"early_stopping_rounds\": 2,\n",
    "          \"max_depth_of_tree\": [56, 89], \n",
    "          \"learningRate\": [89, 76],\n",
    "          \"l1_regularization\": [77],\n",
    "          \"l2_regularization\": [78],\n",
    "          \"gamma\": [68],\n",
    "          \"min_child_weight\": [67],\n",
    "          \"sub_sample\": [67],\n",
    "          \"col_sample_by_tree\": [67],\n",
    "          \"replace_missing_values\": False,\n",
    "          \"parallelism\": 0\n",
    "        }\n",
    ")\n",
    "model.fit(train_X, train_y)\n",
    "prediction = model.predict(test_X)\n",
    "print('The accuracy of Decision Tree is: ', metrics.accuracy_score(prediction, test_y))\n",
    "\n"
   ]
  },
  {
   "cell_type": "code",
   "execution_count": 46,
   "metadata": {
    "colab": {
     "base_uri": "https://localhost:8080/"
    },
    "executionInfo": {
     "elapsed": 4,
     "status": "ok",
     "timestamp": 1673183093583,
     "user": {
      "displayName": "Chandan Raj",
      "userId": "15270615075692593053"
     },
     "user_tz": -330
    },
    "id": "QWQlaB-HI7r9",
    "outputId": "fb006da7-07bd-419c-e063-3d1cda461fd8"
   },
   "outputs": [
    {
     "name": "stdout",
     "output_type": "stream",
     "text": [
      "The accuracy of Logistic Regression is:  0.9555555555555556\n"
     ]
    }
   ],
   "source": [
    "lr = LogisticRegression({\n",
    "          \"model_name\": \"LogisticRegression\",\n",
    "          \"is_selected\": False,\n",
    "          \"parallelism\": 2,\n",
    "          \"min_iter\":30,\n",
    "          \"max_iter\":50,\n",
    "          \"min_regparam\":0.5,\n",
    "          \"max_regparam\":0.8,\n",
    "          \"min_elasticnet\":0.5,\n",
    "          \"max_elasticnet\":0.8\n",
    "        }\n",
    ")\n",
    "\n",
    "model.fit(train_X, train_y)\n",
    "prediction = model.predict(test_X)\n",
    "print('The accuracy of Logistic Regression is: ', metrics.accuracy_score(prediction, test_y))\n"
   ]
  },
  {
   "cell_type": "code",
   "execution_count": 47,
   "metadata": {
    "colab": {
     "base_uri": "https://localhost:8080/",
     "height": 415
    },
    "executionInfo": {
     "elapsed": 12,
     "status": "error",
     "timestamp": 1673183095378,
     "user": {
      "displayName": "Chandan Raj",
      "userId": "15270615075692593053"
     },
     "user_tz": -330
    },
    "id": "lhp3bNjOTmFg",
    "outputId": "19ff82ba-24e7-43bc-a02e-cb681a97c8fc"
   },
   "outputs": [
    {
     "name": "stdout",
     "output_type": "stream",
     "text": [
      "The accuracy of Ridge is:  0.9555555555555556\n"
     ]
    }
   ],
   "source": [
    "from sklearn.linear_model import Ridge\n",
    "ridge = Ridge({\n",
    "          \"is_selected\": False,\n",
    "          \"regularization_term\": \"Specify values to test\",\n",
    "          \"min_iter\":30,\n",
    "          \"max_iter\":50,\n",
    "          \"min_regparam\":0.5,\n",
    "          \"max_regparam\":0.8\n",
    "        }\n",
    ")\n",
    "\n",
    "model.fit(train_X, train_y)\n",
    "prediction = model.predict(test_X)\n",
    "print('The accuracy of Ridge is: ', metrics.accuracy_score(prediction, test_y))\n"
   ]
  },
  {
   "cell_type": "code",
   "execution_count": 48,
   "metadata": {
    "colab": {
     "base_uri": "https://localhost:8080/",
     "height": 235
    },
    "executionInfo": {
     "elapsed": 441,
     "status": "error",
     "timestamp": 1673183097787,
     "user": {
      "displayName": "Chandan Raj",
      "userId": "15270615075692593053"
     },
     "user_tz": -330
    },
    "id": "WUhS12ryT-81",
    "outputId": "cc15ebfe-9018-4b02-c3a7-6b966a05544b"
   },
   "outputs": [
    {
     "name": "stdout",
     "output_type": "stream",
     "text": [
      "The accuracy of Decision Tree Classifier is:  0.9111111111111111\n"
     ]
    }
   ],
   "source": [
    "#Decission Tree\n",
    "from sklearn.tree import DecisionTreeClassifier\n",
    "model=DecisionTreeClassifier()\n",
    "dtc = DecisionTreeClassifier({\n",
    "          \"is_selected\": False,\n",
    "          \"min_depth\":4,\n",
    "          \"max_depth\": 7,\n",
    "          \"use_gini\": False,\n",
    "          \"use_entropy\": True,\n",
    "          \"min_samples_per_leaf\": [12, 6],\n",
    "          \"use_best\": True,\n",
    "          \"use_random\": True\n",
    "        }\n",
    "\n",
    ")\n",
    "\n",
    "model.fit(train_X, train_y)\n",
    "prediction = model.predict(test_X)\n",
    "print('The accuracy of Decision Tree Classifier is: ', metrics.accuracy_score(prediction, test_y))"
   ]
  },
  {
   "cell_type": "code",
   "execution_count": 49,
   "metadata": {
    "colab": {
     "base_uri": "https://localhost:8080/",
     "height": 235
    },
    "executionInfo": {
     "elapsed": 10,
     "status": "error",
     "timestamp": 1673183099471,
     "user": {
      "displayName": "Chandan Raj",
      "userId": "15270615075692593053"
     },
     "user_tz": -330
    },
    "id": "weNWaf_QUYGg",
    "outputId": "ee75073c-9d29-447d-f7e0-824f5cbc2819"
   },
   "outputs": [
    {
     "name": "stdout",
     "output_type": "stream",
     "text": [
      "The accuracy of Decision Tree is:  0.9333333333333333\n"
     ]
    }
   ],
   "source": [
    "#Decission Tree\n",
    "from sklearn.tree import DecisionTreeRegressor\n",
    "model=DecisionTreeRegressor()\n",
    "dtr = DecisionTreeRegressor({\n",
    "          \"is_selected\": False,\n",
    "          \"min_depth\":4,\n",
    "          \"max_depth\": 7,\n",
    "          \"use_gini\": False,\n",
    "          \"use_entropy\": True,\n",
    "          \"min_samples_per_leaf\": [12, 6],\n",
    "          \"use_best\": True,\n",
    "          \"use_random\": True\n",
    "        }\n",
    "\n",
    "\n",
    ")\n",
    "\n",
    "model.fit(train_X, train_y)\n",
    "prediction = model.predict(test_X)\n",
    "print('The accuracy of Decision Tree is: ', metrics.accuracy_score(prediction, test_y))"
   ]
  },
  {
   "cell_type": "code",
   "execution_count": 50,
   "metadata": {
    "colab": {
     "base_uri": "https://localhost:8080/",
     "height": 235
    },
    "executionInfo": {
     "elapsed": 8,
     "status": "error",
     "timestamp": 1673183101494,
     "user": {
      "displayName": "Chandan Raj",
      "userId": "15270615075692593053"
     },
     "user_tz": -330
    },
    "id": "vrhGc69MZPTB",
    "outputId": "faa4173e-d189-4dd0-e905-bb5151355140"
   },
   "outputs": [
    {
     "name": "stdout",
     "output_type": "stream",
     "text": [
      "The accuracy of  SVC is:  0.9333333333333333\n"
     ]
    }
   ],
   "source": [
    "from sklearn.svm import SVC\n",
    "model=SVC()\n",
    "svc = SVC({\n",
    "          \"is_selected\": False,\n",
    "          \"linear_kernel\": True,\n",
    "          \"rep_kernel\": True,\n",
    "          \"polynomial_kernel\": True,\n",
    "          \"sigmoid_kernel\": True,\n",
    "          \"c_value\": [566, 79],\n",
    "          \"auto\": True,\n",
    "          \"scale\": True,\n",
    "          \"custom_gamma_values\": True,\n",
    "          \"tolerance\": 7,\n",
    "          \"max_iterations\": 7\n",
    "        }\n",
    "\n",
    "\n",
    "\n",
    ")\n",
    "\n",
    "model.fit(train_X, train_y)\n",
    "prediction = model.predict(test_X)\n",
    "print('The accuracy of  SVC is: ', metrics.accuracy_score(prediction, test_y))"
   ]
  },
  {
   "cell_type": "code",
   "execution_count": 51,
   "metadata": {
    "colab": {
     "base_uri": "https://localhost:8080/"
    },
    "executionInfo": {
     "elapsed": 683,
     "status": "ok",
     "timestamp": 1673183104056,
     "user": {
      "displayName": "Chandan Raj",
      "userId": "15270615075692593053"
     },
     "user_tz": -330
    },
    "id": "u8go9AXIa194",
    "outputId": "84ae5e3e-581a-472c-89c6-40d0bc2a8347"
   },
   "outputs": [
    {
     "name": "stdout",
     "output_type": "stream",
     "text": [
      "The accuracy of SGD Classifier is:  0.9333333333333333\n"
     ]
    }
   ],
   "source": [
    "from sklearn.linear_model import SGDClassifier\n",
    "model=SGDClassifier(max_iter=1000, tol=0.01)\n",
    "'''sdg = SGDClassifier({\n",
    "          \"is_selected\": False,\n",
    "          \"use_logistics\": True,\n",
    "          \"use_modified_hubber_loss\": False,\n",
    "          \"max_iterations\": False,\n",
    "          \"tolerance\": 56,\n",
    "          \"use_l1_regularization\": \"on\",\n",
    "          \"use_l2_regularization\": \"on\",\n",
    "          \"use_elastic_net_regularization\":True,\n",
    "          \"alpha_value\": [79, 56],\n",
    "          \"parallelism\": 1\n",
    "        }'''\n",
    "\n",
    "model.fit(train_X, train_y)\n",
    "prediction = model.predict(test_X)\n",
    "print('The accuracy of SGD Classifier is: ', metrics.accuracy_score(prediction, test_y))"
   ]
  },
  {
   "cell_type": "code",
   "execution_count": 52,
   "metadata": {
    "colab": {
     "base_uri": "https://localhost:8080/"
    },
    "executionInfo": {
     "elapsed": 548,
     "status": "ok",
     "timestamp": 1673183106558,
     "user": {
      "displayName": "Chandan Raj",
      "userId": "15270615075692593053"
     },
     "user_tz": -330
    },
    "id": "DGE18nI0b2rI",
    "outputId": "823188e5-53d3-4f62-e192-ed5384c48c11"
   },
   "outputs": [
    {
     "name": "stdout",
     "output_type": "stream",
     "text": [
      "The accuracy of KNeighborsClassifier is:  0.9333333333333333\n"
     ]
    }
   ],
   "source": [
    "\n",
    "from sklearn.neighbors import KNeighborsClassifier\n",
    "model=KNeighborsClassifier()\n",
    "knn = KNeighborsClassifier({\n",
    "          \"is_selected\": False,\n",
    "          \"k_value\": [78],\n",
    "          \"distance_weighting\": True,\n",
    "          \"neighbour_finding_algorithm\": \"Automatic\",\n",
    "          \"random_state\": 0,\n",
    "          \"p_value\": 0\n",
    "        }\n",
    "\n",
    "\n",
    "\n",
    "\n",
    "\n",
    ")\n",
    "\n",
    "model.fit(train_X, train_y)\n",
    "prediction = model.predict(test_X)\n",
    "print('The accuracy of KNeighborsClassifier is: ', metrics.accuracy_score(prediction, test_y))"
   ]
  },
  {
   "cell_type": "code",
   "execution_count": 53,
   "metadata": {
    "colab": {
     "base_uri": "https://localhost:8080/"
    },
    "executionInfo": {
     "elapsed": 10,
     "status": "ok",
     "timestamp": 1673183110050,
     "user": {
      "displayName": "Chandan Raj",
      "userId": "15270615075692593053"
     },
     "user_tz": -330
    },
    "id": "VvHjZctNcfyf",
    "outputId": "3cee485c-bfba-4166-e773-052f2ed17a3e"
   },
   "outputs": [
    {
     "name": "stdout",
     "output_type": "stream",
     "text": [
      "The accuracy of Extra Tree sClassifier is:  0.8888888888888888\n"
     ]
    }
   ],
   "source": [
    "from sklearn.ensemble import ExtraTreesClassifier\n",
    "model=ExtraTreesClassifier()\n",
    "etc = ExtraTreesClassifier({\n",
    "          \"is_selected\": False,\n",
    "          \"num_of_trees\": [45, 489],\n",
    "          \"feature_sampling_statergy\": \"Square root and Logarithm\",\n",
    "          \"max_depth\": [12, 45],\n",
    "          \"min_samples_per_leaf\": [78, 56],\n",
    "          \"parallelism\": 3\n",
    "        }\n",
    "\n",
    "\n",
    "\n",
    "\n",
    "\n",
    "\n",
    ")\n",
    "\n",
    "model.fit(train_X, train_y)\n",
    "prediction = model.predict(test_X)\n",
    "print('The accuracy of Extra Tree sClassifier is: ', metrics.accuracy_score(prediction, test_y))"
   ]
  },
  {
   "cell_type": "code",
   "execution_count": 54,
   "metadata": {
    "colab": {
     "base_uri": "https://localhost:8080/"
    },
    "executionInfo": {
     "elapsed": 6,
     "status": "ok",
     "timestamp": 1673183112807,
     "user": {
      "displayName": "Chandan Raj",
      "userId": "15270615075692593053"
     },
     "user_tz": -330
    },
    "id": "2vEe5sdXdQ4K",
    "outputId": "587a3123-049d-48d6-fe14-991b2e8677c0"
   },
   "outputs": [
    {
     "name": "stdout",
     "output_type": "stream",
     "text": [
      "The accuracy of MLP Classifier is:  0.9555555555555556\n"
     ]
    }
   ],
   "source": [
    "from sklearn.neural_network import MLPClassifier\n",
    "model=MLPClassifier()\n",
    "mlp = MLPClassifier({\n",
    "          \"is_selected\": False,\n",
    "          \"hidden_layer_sizes\": [67, 89],\n",
    "          \"activation\": \"\",\n",
    "          \"alpha_value\": 0,\n",
    "          \"max_iterations\": 0,\n",
    "          \"convergence_tolerance\": 0,\n",
    "          \"early_stopping\": True,\n",
    "          \"solver\": \"ADAM\",\n",
    "          \"shuffle_data\": True,\n",
    "          \"initial_learning_rate\": 0,\n",
    "          \"automatic_batching\": True,\n",
    "          \"beta_1\": 0,\n",
    "          \"beta_2\": 0,\n",
    "          \"epsilon\": 0,\n",
    "          \"power_t\": 0,\n",
    "          \"momentum\": 0,\n",
    "          \"use_nesterov_momentum\": False\n",
    "        }\n",
    "\n",
    "\n",
    "\n",
    "\n",
    "\n",
    "\n",
    "\n",
    ")\n",
    "\n",
    "model.fit(train_X, train_y)\n",
    "prediction = model.predict(test_X)\n",
    "print('The accuracy of MLP Classifier is: ', metrics.accuracy_score(prediction, test_y))"
   ]
  },
  {
   "cell_type": "code",
   "execution_count": 55,
   "metadata": {
    "colab": {
     "base_uri": "https://localhost:8080/"
    },
    "executionInfo": {
     "elapsed": 401,
     "status": "ok",
     "timestamp": 1673183802365,
     "user": {
      "displayName": "Chandan Raj",
      "userId": "15270615075692593053"
     },
     "user_tz": -330
    },
    "id": "KYzxmYfGgGHx",
    "outputId": "6f4b4fcd-1f4a-41f8-820b-6724e428d19b"
   },
   "outputs": [
    {
     "name": "stdout",
     "output_type": "stream",
     "text": [
      "The accuracy of PCA is:  0.9555555555555556\n"
     ]
    }
   ],
   "source": [
    "from sklearn.decomposition import PCA\n",
    "\n",
    "model=PCA()\n",
    "classifier = PCA({\n",
    "          \"is_selected\": False,\n",
    "          \"num_of_features_to_keep\":0\n",
    "        }\n",
    "\n",
    "\n",
    "\n",
    "\n",
    "\n",
    "\n",
    "\n",
    ")\n",
    "\n",
    "# train the model using the PCA components\n",
    "model.fit(train_X,train_y)\n",
    "model.score(test_X,test_y)\n",
    "print('The accuracy of PCA is: ', metrics.accuracy_score(prediction, test_y))"
   ]
  },
  {
   "cell_type": "code",
   "execution_count": null,
   "metadata": {
    "id": "1FNOHvcGgT4Y"
   },
   "outputs": [],
   "source": []
  },
  {
   "cell_type": "code",
   "execution_count": 56,
   "metadata": {
    "executionInfo": {
     "elapsed": 407,
     "status": "ok",
     "timestamp": 1673183322365,
     "user": {
      "displayName": "Chandan Raj",
      "userId": "15270615075692593053"
     },
     "user_tz": -330
    },
    "id": "H6G6maANd_Sl"
   },
   "outputs": [],
   "source": [
    "#deployment \n",
    "\n",
    "#saving model using pickle\n",
    "#use serialization: to store data in file in binary form \n",
    "#use inbuilt package : pickle\n",
    "import pickle"
   ]
  },
  {
   "cell_type": "code",
   "execution_count": 57,
   "metadata": {
    "executionInfo": {
     "elapsed": 397,
     "status": "ok",
     "timestamp": 1673183953998,
     "user": {
      "displayName": "Chandan Raj",
      "userId": "15270615075692593053"
     },
     "user_tz": -330
    },
    "id": "LRWLTnIof1oh"
   },
   "outputs": [],
   "source": [
    "#To save object of StandardSacler class\n",
    "file2=open(\"scale.pkl\",'wb')\n",
    "\n",
    "#to save the object of LinearRegression class in file in binary form\n",
    "#first open the temporary file\n",
    "file1=open(\"model.pkl\",\"wb\") #wb means write binary mode\n",
    "# To save the object of satandardScaler class in temp fie 2\n",
    "pickle.dump(label_encoder,file2)\n",
    "file2.close()\n",
    "#to the write the object of LinearRegression in temporary file1, use\n",
    "#inbuilt function dupm() of pickle\n",
    "pickle.dump(knn,file1)#pickle.dump(object of model temp file)\n",
    "file1.close() # close the emporary file"
   ]
  },
  {
   "cell_type": "code",
   "execution_count": 58,
   "metadata": {
    "colab": {
     "base_uri": "https://localhost:8080/",
     "height": 36
    },
    "executionInfo": {
     "elapsed": 409,
     "status": "ok",
     "timestamp": 1673183975010,
     "user": {
      "displayName": "Chandan Raj",
      "userId": "15270615075692593053"
     },
     "user_tz": -330
    },
    "id": "2btPWD4ciQAe",
    "outputId": "22896c7d-8c15-4c2a-bfcf-7cf9475099d3"
   },
   "outputs": [
    {
     "data": {
      "text/plain": [
       "'C:\\\\Users\\\\Meena Panday'"
      ]
     },
     "execution_count": 58,
     "metadata": {},
     "output_type": "execute_result"
    }
   ],
   "source": [
    "import os\n",
    "os.getcwd()"
   ]
  },
  {
   "cell_type": "code",
   "execution_count": null,
   "metadata": {
    "id": "pf5t0RZ4iVGX"
   },
   "outputs": [],
   "source": []
  }
 ],
 "metadata": {
  "colab": {
   "authorship_tag": "ABX9TyPa99Yh8mDYzHbbgqwSB/6v",
   "mount_file_id": "1mJnu4f80VqGvCObwSFgpSjQlKPQN_mPO",
   "provenance": []
  },
  "kernelspec": {
   "display_name": "Python 3",
   "language": "python",
   "name": "python3"
  },
  "language_info": {
   "codemirror_mode": {
    "name": "ipython",
    "version": 3
   },
   "file_extension": ".py",
   "mimetype": "text/x-python",
   "name": "python",
   "nbconvert_exporter": "python",
   "pygments_lexer": "ipython3",
   "version": "3.8.10"
  }
 },
 "nbformat": 4,
 "nbformat_minor": 1
}
